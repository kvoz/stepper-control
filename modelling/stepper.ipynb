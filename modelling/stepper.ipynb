{
 "cells": [
  {
   "cell_type": "code",
   "execution_count": 2,
   "metadata": {
    "scrolled": true,
    "tags": []
   },
   "outputs": [],
   "source": [
    "import numpy as np\n",
    "import matplotlib.pyplot as plt"
   ]
  },
  {
   "cell_type": "code",
   "execution_count": 61,
   "metadata": {},
   "outputs": [],
   "source": [
    "F_TIM = 72000  # Гц\n",
    "T_TIM = 1.0 / F_TIM  # Секунды\n",
    "\n",
    "SPR = 2000\n",
    "ALPHA = 2.0 * np.pi / SPR  # rad\n",
    "\n",
    "targetLoops = 1\n",
    "targetSteps = targetLoops * SPR\n",
    "\n",
    "targetAcel = 0.9\n",
    "targetDecl = 0.9\n",
    "targetSpeed = 3.0  # rad/sec (1 rad/sec = 9.55 rpm)\n",
    "\n",
    "\n",
    "def calc_speed(c_t):\n",
    "    return (ALPHA / (c_t * T_TIM))\n",
    "\n",
    "def calc_c(omega, n):\n",
    "     return ( (np.sqrt(n + 1) - np.sqrt(n)) * np.sqrt(2.0 * ALPHA / omega) / T_TIM)\n",
    "\n",
    "def generate_speed_profile(speed, acel, decel, steps):\n",
    "    max_s_lim = int(speed ** 2 / (2.0 * ALPHA * acel))\n",
    "    n1 = int(steps * decel / (acel + decel))\n",
    "    n2 = int(n1 * acel / decel)\n",
    "    \n",
    "    if max_s_lim < n1:\n",
    "        steps_to_acel = max_s_lim\n",
    "        steps_to_decel = int(max_s_lim * acel / decel)\n",
    "    else:\n",
    "        steps_to_acel = n1\n",
    "        steps_to_decel = n2\n",
    "        \n",
    "    steps_before_decel = steps - steps_to_decel\n",
    "        \n",
    "    x = np.linspace(0, steps, steps, endpoint=False)\n",
    "    y = [0]\n",
    "    \n",
    "    print(f\"C_0 is {calc_c(acel, 0)}\")\n",
    "    \n",
    "    for step in range(1, steps):\n",
    "        if step < steps_to_acel:\n",
    "            c = calc_c(acel, step)\n",
    "            s = calc_speed(c)\n",
    "            y.append(s)\n",
    "        elif step >= steps_to_acel and step < steps_before_decel:\n",
    "            y.append(speed)\n",
    "        else:\n",
    "            c = calc_c(decel, steps - step)\n",
    "            s = calc_speed(c)\n",
    "            y.append(s)\n",
    "        \n",
    "    y[-1] = 0.0\n",
    "    \n",
    "    print(f\"total steps = {steps}\")\n",
    "    print(f\"Steps to accel = {steps_to_acel}\")\n",
    "    print(f\"Steps to decel = {steps_to_decel}\")\n",
    "    print(f\"Steps to freerun = {steps_before_decel - steps_to_acel}\")\n",
    "    print(f\"Steps before decel = {steps_before_decel}\")\n",
    "    \n",
    "    return x, y, steps_to_acel, steps_to_decel"
   ]
  },
  {
   "cell_type": "code",
   "execution_count": 62,
   "metadata": {},
   "outputs": [
    {
     "name": "stdout",
     "output_type": "stream",
     "text": [
      "C_0 is 6015.907859114401\n",
      "total steps = 2000\n",
      "Steps to accel = 1000\n",
      "Steps to decel = 1000\n",
      "Steps to freerun = 0\n",
      "Steps before decel = 1000\n"
     ]
    },
    {
     "data": {
      "image/png": "[encoded data removed]",
      "text/plain": [
       "<Figure size 432x288 with 1 Axes>"
      ]
     },
     "metadata": {
      "needs_background": "light"
     },
     "output_type": "display_data"
    }
   ],
   "source": [
    "x, y, n1, n2 = generate_speed_profile(targetSpeed, targetAcel, targetDecl, targetSteps)\n",
    "plt.plot(x[0:n1 + 10], y[0:n1 + 10])\n",
    "plt.grid()\n",
    "plt.show()"
   ]
  },
  {
   "cell_type": "code",
   "execution_count": 63,
   "metadata": {},
   "outputs": [
    {
     "data": {
      "image/png": "[encoded data removed]",
      "text/plain": [
       "<Figure size 432x288 with 1 Axes>"
      ]
     },
     "metadata": {
      "needs_background": "light"
     },
     "output_type": "display_data"
    }
   ],
   "source": [
    "plt.plot(x[targetSteps - n2 -10:], y[targetSteps - n2 -10:])\n",
    "plt.grid()\n",
    "plt.show()"
   ]
  },
  {
   "cell_type": "code",
   "execution_count": null,
   "metadata": {},
   "outputs": [],
   "source": []
  },
  {
   "cell_type": "code",
   "execution_count": null,
   "metadata": {},
   "outputs": [],
   "source": []
  }
 ],
 "metadata": {
  "kernelspec": {
   "display_name": "Python 3",
   "language": "python",
   "name": "python3"
  },
  "language_info": {
   "codemirror_mode": {
    "name": "ipython",
    "version": 3
   },
   "file_extension": ".py",
   "mimetype": "text/x-python",
   "name": "python",
   "nbconvert_exporter": "python",
   "pygments_lexer": "ipython3",
   "version": "3.9.2"
  }
 },
 "nbformat": 4,
 "nbformat_minor": 4
}
